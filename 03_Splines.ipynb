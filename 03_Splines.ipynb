{
  "nbformat": 4,
  "nbformat_minor": 0,
  "metadata": {
    "kernelspec": {
      "language": "python",
      "display_name": "Python 3",
      "name": "python3"
    },
    "language_info": {
      "pygments_lexer": "ipython3",
      "nbconvert_exporter": "python",
      "version": "3.6.4",
      "file_extension": ".py",
      "codemirror_mode": {
        "name": "ipython",
        "version": 3
      },
      "name": "python",
      "mimetype": "text/x-python"
    },
    "colab": {
      "name": "03_Splines.ipynb",
      "provenance": [],
      "collapsed_sections": [
        "ncUUcxjxHjy4",
        "8TltzIbdHjzO",
        "m584Sab6HjzS",
        "qY1iXH3hHjzS",
        "U0JVPocZHjzl",
        "gb-wg5npHjz9",
        "rnmDjKvaHj0X",
        "YxlgCg95Hj0Y",
        "mRtX24uvHj0o",
        "3VywczklHj1G"
      ]
    }
  },
  "cells": [
    {
      "cell_type": "code",
      "metadata": {
        "_uuid": "8f2839f25d086af736a60e9eeb907d3b93b6e0e5",
        "_cell_guid": "b1076dfc-b9ad-4769-8c92-a6c4dae69d19",
        "trusted": true,
        "id": "9CXFwKwAHjxm",
        "colab_type": "code",
        "colab": {},
        "outputId": "146d12bd-7a15-42eb-853a-920fbb7b9f81"
      },
      "source": [
        "# This Python 3 environment comes with many helpful analytics libraries installed\n",
        "# It is defined by the kaggle/python Docker image: https://github.com/kaggle/docker-python\n",
        "# For example, here's several helpful packages to load\n",
        "\n",
        "import numpy as np # linear algebra\n",
        "import pandas as pd # data processing, CSV file I/O (e.g. pd.read_csv)\n",
        "\n",
        "# Input data files are available in the read-only \"../input/\" directory\n",
        "# For example, running this (by clicking run or pressing Shift+Enter) will list all files under the input directory\n",
        "\n",
        "import os\n",
        "for dirname, _, filenames in os.walk('/kaggle/input'):\n",
        "    for filename in filenames:\n",
        "        print(os.path.join(dirname, filename))\n",
        "\n",
        "# You can write up to 5GB to the current directory (/kaggle/working/) that gets preserved as output when you create a version using \"Save & Run All\" \n",
        "# You can also write temporary files to /kaggle/temp/, but they won't be saved outside of the current session"
      ],
      "execution_count": 0,
      "outputs": [
        {
          "output_type": "stream",
          "text": [
            "/kaggle/input/boston-housing-dataset/Boston.csv\n"
          ],
          "name": "stdout"
        }
      ]
    },
    {
      "cell_type": "code",
      "metadata": {
        "trusted": true,
        "id": "BcrDnLghHjxy",
        "colab_type": "code",
        "colab": {}
      },
      "source": [
        "import matplotlib.pyplot as plt\n",
        "%matplotlib inline"
      ],
      "execution_count": 0,
      "outputs": []
    },
    {
      "cell_type": "code",
      "metadata": {
        "trusted": true,
        "id": "5fTMY8JFHjx6",
        "colab_type": "code",
        "colab": {}
      },
      "source": [
        "import copy "
      ],
      "execution_count": 0,
      "outputs": []
    },
    {
      "cell_type": "code",
      "metadata": {
        "_uuid": "d629ff2d2480ee46fbb7e2d37f6b5fab8052498a",
        "_cell_guid": "79c7e3d0-c299-4dcb-8224-4455121ee9b0",
        "trusted": true,
        "id": "kH59AtcvHjx_",
        "colab_type": "code",
        "colab": {}
      },
      "source": [
        "data = pd.read_csv('/kaggle/input/boston-housing-dataset/Boston.csv')"
      ],
      "execution_count": 0,
      "outputs": []
    },
    {
      "cell_type": "code",
      "metadata": {
        "trusted": true,
        "id": "PMGTPFM6HjyG",
        "colab_type": "code",
        "colab": {},
        "outputId": "6a88a47e-66e2-412d-9952-15e658c0829a"
      },
      "source": [
        "data.shape"
      ],
      "execution_count": 0,
      "outputs": [
        {
          "output_type": "execute_result",
          "data": {
            "text/plain": [
              "(506, 14)"
            ]
          },
          "metadata": {
            "tags": []
          },
          "execution_count": 5
        }
      ]
    },
    {
      "cell_type": "code",
      "metadata": {
        "trusted": true,
        "id": "XTv4BORSHjyM",
        "colab_type": "code",
        "colab": {},
        "outputId": "9a9ca54b-915a-41c0-810c-b30c450470fc"
      },
      "source": [
        "data.head()"
      ],
      "execution_count": 0,
      "outputs": [
        {
          "output_type": "execute_result",
          "data": {
            "text/plain": [
              "      crim    zn  indus  chas    nox     rm   age     dis  rad  tax  ptratio  \\\n",
              "0  0.00632  18.0   2.31     0  0.538  6.575  65.2  4.0900    1  296     15.3   \n",
              "1  0.02731   0.0   7.07     0  0.469  6.421  78.9  4.9671    2  242     17.8   \n",
              "2  0.02729   0.0   7.07     0  0.469  7.185  61.1  4.9671    2  242     17.8   \n",
              "3  0.03237   0.0   2.18     0  0.458  6.998  45.8  6.0622    3  222     18.7   \n",
              "4  0.06905   0.0   2.18     0  0.458  7.147  54.2  6.0622    3  222     18.7   \n",
              "\n",
              "    black  lstat  medv  \n",
              "0  396.90   4.98  24.0  \n",
              "1  396.90   9.14  21.6  \n",
              "2  392.83   4.03  34.7  \n",
              "3  394.63   2.94  33.4  \n",
              "4  396.90   5.33  36.2  "
            ],
            "text/html": [
              "<div>\n",
              "<style scoped>\n",
              "    .dataframe tbody tr th:only-of-type {\n",
              "        vertical-align: middle;\n",
              "    }\n",
              "\n",
              "    .dataframe tbody tr th {\n",
              "        vertical-align: top;\n",
              "    }\n",
              "\n",
              "    .dataframe thead th {\n",
              "        text-align: right;\n",
              "    }\n",
              "</style>\n",
              "<table border=\"1\" class=\"dataframe\">\n",
              "  <thead>\n",
              "    <tr style=\"text-align: right;\">\n",
              "      <th></th>\n",
              "      <th>crim</th>\n",
              "      <th>zn</th>\n",
              "      <th>indus</th>\n",
              "      <th>chas</th>\n",
              "      <th>nox</th>\n",
              "      <th>rm</th>\n",
              "      <th>age</th>\n",
              "      <th>dis</th>\n",
              "      <th>rad</th>\n",
              "      <th>tax</th>\n",
              "      <th>ptratio</th>\n",
              "      <th>black</th>\n",
              "      <th>lstat</th>\n",
              "      <th>medv</th>\n",
              "    </tr>\n",
              "  </thead>\n",
              "  <tbody>\n",
              "    <tr>\n",
              "      <th>0</th>\n",
              "      <td>0.00632</td>\n",
              "      <td>18.0</td>\n",
              "      <td>2.31</td>\n",
              "      <td>0</td>\n",
              "      <td>0.538</td>\n",
              "      <td>6.575</td>\n",
              "      <td>65.2</td>\n",
              "      <td>4.0900</td>\n",
              "      <td>1</td>\n",
              "      <td>296</td>\n",
              "      <td>15.3</td>\n",
              "      <td>396.90</td>\n",
              "      <td>4.98</td>\n",
              "      <td>24.0</td>\n",
              "    </tr>\n",
              "    <tr>\n",
              "      <th>1</th>\n",
              "      <td>0.02731</td>\n",
              "      <td>0.0</td>\n",
              "      <td>7.07</td>\n",
              "      <td>0</td>\n",
              "      <td>0.469</td>\n",
              "      <td>6.421</td>\n",
              "      <td>78.9</td>\n",
              "      <td>4.9671</td>\n",
              "      <td>2</td>\n",
              "      <td>242</td>\n",
              "      <td>17.8</td>\n",
              "      <td>396.90</td>\n",
              "      <td>9.14</td>\n",
              "      <td>21.6</td>\n",
              "    </tr>\n",
              "    <tr>\n",
              "      <th>2</th>\n",
              "      <td>0.02729</td>\n",
              "      <td>0.0</td>\n",
              "      <td>7.07</td>\n",
              "      <td>0</td>\n",
              "      <td>0.469</td>\n",
              "      <td>7.185</td>\n",
              "      <td>61.1</td>\n",
              "      <td>4.9671</td>\n",
              "      <td>2</td>\n",
              "      <td>242</td>\n",
              "      <td>17.8</td>\n",
              "      <td>392.83</td>\n",
              "      <td>4.03</td>\n",
              "      <td>34.7</td>\n",
              "    </tr>\n",
              "    <tr>\n",
              "      <th>3</th>\n",
              "      <td>0.03237</td>\n",
              "      <td>0.0</td>\n",
              "      <td>2.18</td>\n",
              "      <td>0</td>\n",
              "      <td>0.458</td>\n",
              "      <td>6.998</td>\n",
              "      <td>45.8</td>\n",
              "      <td>6.0622</td>\n",
              "      <td>3</td>\n",
              "      <td>222</td>\n",
              "      <td>18.7</td>\n",
              "      <td>394.63</td>\n",
              "      <td>2.94</td>\n",
              "      <td>33.4</td>\n",
              "    </tr>\n",
              "    <tr>\n",
              "      <th>4</th>\n",
              "      <td>0.06905</td>\n",
              "      <td>0.0</td>\n",
              "      <td>2.18</td>\n",
              "      <td>0</td>\n",
              "      <td>0.458</td>\n",
              "      <td>7.147</td>\n",
              "      <td>54.2</td>\n",
              "      <td>6.0622</td>\n",
              "      <td>3</td>\n",
              "      <td>222</td>\n",
              "      <td>18.7</td>\n",
              "      <td>396.90</td>\n",
              "      <td>5.33</td>\n",
              "      <td>36.2</td>\n",
              "    </tr>\n",
              "  </tbody>\n",
              "</table>\n",
              "</div>"
            ]
          },
          "metadata": {
            "tags": []
          },
          "execution_count": 6
        }
      ]
    },
    {
      "cell_type": "code",
      "metadata": {
        "trusted": true,
        "id": "jGXaxSfbHjyS",
        "colab_type": "code",
        "colab": {},
        "outputId": "54df13c6-c663-430e-ae59-ecf620c8d66c"
      },
      "source": [
        "data.isnull().sum()"
      ],
      "execution_count": 0,
      "outputs": [
        {
          "output_type": "execute_result",
          "data": {
            "text/plain": [
              "crim       0\n",
              "zn         0\n",
              "indus      0\n",
              "chas       0\n",
              "nox        0\n",
              "rm         0\n",
              "age        0\n",
              "dis        0\n",
              "rad        0\n",
              "tax        0\n",
              "ptratio    0\n",
              "black      0\n",
              "lstat      0\n",
              "medv       0\n",
              "dtype: int64"
            ]
          },
          "metadata": {
            "tags": []
          },
          "execution_count": 7
        }
      ]
    },
    {
      "cell_type": "code",
      "metadata": {
        "trusted": true,
        "id": "Rx6CWDxyHjyY",
        "colab_type": "code",
        "colab": {},
        "outputId": "a0e813a0-366d-4d19-f7ba-deb3343f9e18"
      },
      "source": [
        "data.corr()['medv']"
      ],
      "execution_count": 0,
      "outputs": [
        {
          "output_type": "execute_result",
          "data": {
            "text/plain": [
              "crim      -0.388305\n",
              "zn         0.360445\n",
              "indus     -0.483725\n",
              "chas       0.175260\n",
              "nox       -0.427321\n",
              "rm         0.695360\n",
              "age       -0.376955\n",
              "dis        0.249929\n",
              "rad       -0.381626\n",
              "tax       -0.468536\n",
              "ptratio   -0.507787\n",
              "black      0.333461\n",
              "lstat     -0.737663\n",
              "medv       1.000000\n",
              "Name: medv, dtype: float64"
            ]
          },
          "metadata": {
            "tags": []
          },
          "execution_count": 8
        }
      ]
    },
    {
      "cell_type": "markdown",
      "metadata": {
        "id": "AxM2PLCkHjyd",
        "colab_type": "text"
      },
      "source": [
        "### Observation:\n",
        "### --> Most of them have a correlation of around +-0.5 with the target variable"
      ]
    },
    {
      "cell_type": "code",
      "metadata": {
        "trusted": true,
        "id": "MMz7ROQ6Hjye",
        "colab_type": "code",
        "colab": {},
        "outputId": "be981e6d-097c-4b53-c4b3-fcdd8e6757f5"
      },
      "source": [
        "data['medv'].hist()"
      ],
      "execution_count": 0,
      "outputs": [
        {
          "output_type": "execute_result",
          "data": {
            "text/plain": [
              "<matplotlib.axes._subplots.AxesSubplot at 0x7f828985a910>"
            ]
          },
          "metadata": {
            "tags": []
          },
          "execution_count": 9
        },
        {
          "output_type": "display_data",
          "data": {
            "text/plain": [
              "<Figure size 432x288 with 1 Axes>"
            ],
            "image/png": "[encoded data removed]"
          },
          "metadata": {
            "tags": [],
            "needs_background": "light"
          }
        }
      ]
    },
    {
      "cell_type": "code",
      "metadata": {
        "trusted": true,
        "id": "jOYTCNFUHjyj",
        "colab_type": "code",
        "colab": {},
        "outputId": "2274f364-95d9-4d8b-fc07-1f5bb530914f"
      },
      "source": [
        "((data['medv']>=(data['medv'].mean() - 3 * data['medv'].std())) \\\n",
        "                          & (data['medv']<=(data['medv'].mean() + 3 * data['medv'].std()))).sum()"
      ],
      "execution_count": 0,
      "outputs": [
        {
          "output_type": "execute_result",
          "data": {
            "text/plain": [
              "506"
            ]
          },
          "metadata": {
            "tags": []
          },
          "execution_count": 10
        }
      ]
    },
    {
      "cell_type": "code",
      "metadata": {
        "trusted": true,
        "id": "Pf6e5up5Hjyo",
        "colab_type": "code",
        "colab": {}
      },
      "source": [
        "X = data.drop('medv',axis = 1)\n",
        "y = data['medv']"
      ],
      "execution_count": 0,
      "outputs": []
    },
    {
      "cell_type": "markdown",
      "metadata": {
        "id": "POYOhkTbHjyr",
        "colab_type": "text"
      },
      "source": [
        "# Check multicollinearity"
      ]
    },
    {
      "cell_type": "code",
      "metadata": {
        "trusted": true,
        "id": "YzTANg6QHjys",
        "colab_type": "code",
        "colab": {},
        "outputId": "49c6dade-c90d-4282-da85-2bc4bd7b9b65"
      },
      "source": [
        "from statsmodels.stats.outliers_influence import variance_inflation_factor\n",
        "\n",
        "\n",
        "vif = pd.DataFrame()\n",
        "vif[\"VIF Factor\"] = [variance_inflation_factor(X.values, i) for i in range(X.shape[1])]\n",
        "vif[\"features\"] = X.columns\n",
        "\n",
        "vif"
      ],
      "execution_count": 0,
      "outputs": [
        {
          "output_type": "execute_result",
          "data": {
            "text/plain": [
              "    VIF Factor features\n",
              "0     2.100373     crim\n",
              "1     2.844013       zn\n",
              "2    14.485758    indus\n",
              "3     1.152952     chas\n",
              "4    73.894947      nox\n",
              "5    77.948283       rm\n",
              "6    21.386850      age\n",
              "7    14.699652      dis\n",
              "8    15.167725      rad\n",
              "9    61.227274      tax\n",
              "10   85.029547  ptratio\n",
              "11   20.104943    black\n",
              "12   11.102025    lstat"
            ],
            "text/html": [
              "<div>\n",
              "<style scoped>\n",
              "    .dataframe tbody tr th:only-of-type {\n",
              "        vertical-align: middle;\n",
              "    }\n",
              "\n",
              "    .dataframe tbody tr th {\n",
              "        vertical-align: top;\n",
              "    }\n",
              "\n",
              "    .dataframe thead th {\n",
              "        text-align: right;\n",
              "    }\n",
              "</style>\n",
              "<table border=\"1\" class=\"dataframe\">\n",
              "  <thead>\n",
              "    <tr style=\"text-align: right;\">\n",
              "      <th></th>\n",
              "      <th>VIF Factor</th>\n",
              "      <th>features</th>\n",
              "    </tr>\n",
              "  </thead>\n",
              "  <tbody>\n",
              "    <tr>\n",
              "      <th>0</th>\n",
              "      <td>2.100373</td>\n",
              "      <td>crim</td>\n",
              "    </tr>\n",
              "    <tr>\n",
              "      <th>1</th>\n",
              "      <td>2.844013</td>\n",
              "      <td>zn</td>\n",
              "    </tr>\n",
              "    <tr>\n",
              "      <th>2</th>\n",
              "      <td>14.485758</td>\n",
              "      <td>indus</td>\n",
              "    </tr>\n",
              "    <tr>\n",
              "      <th>3</th>\n",
              "      <td>1.152952</td>\n",
              "      <td>chas</td>\n",
              "    </tr>\n",
              "    <tr>\n",
              "      <th>4</th>\n",
              "      <td>73.894947</td>\n",
              "      <td>nox</td>\n",
              "    </tr>\n",
              "    <tr>\n",
              "      <th>5</th>\n",
              "      <td>77.948283</td>\n",
              "      <td>rm</td>\n",
              "    </tr>\n",
              "    <tr>\n",
              "      <th>6</th>\n",
              "      <td>21.386850</td>\n",
              "      <td>age</td>\n",
              "    </tr>\n",
              "    <tr>\n",
              "      <th>7</th>\n",
              "      <td>14.699652</td>\n",
              "      <td>dis</td>\n",
              "    </tr>\n",
              "    <tr>\n",
              "      <th>8</th>\n",
              "      <td>15.167725</td>\n",
              "      <td>rad</td>\n",
              "    </tr>\n",
              "    <tr>\n",
              "      <th>9</th>\n",
              "      <td>61.227274</td>\n",
              "      <td>tax</td>\n",
              "    </tr>\n",
              "    <tr>\n",
              "      <th>10</th>\n",
              "      <td>85.029547</td>\n",
              "      <td>ptratio</td>\n",
              "    </tr>\n",
              "    <tr>\n",
              "      <th>11</th>\n",
              "      <td>20.104943</td>\n",
              "      <td>black</td>\n",
              "    </tr>\n",
              "    <tr>\n",
              "      <th>12</th>\n",
              "      <td>11.102025</td>\n",
              "      <td>lstat</td>\n",
              "    </tr>\n",
              "  </tbody>\n",
              "</table>\n",
              "</div>"
            ]
          },
          "metadata": {
            "tags": []
          },
          "execution_count": 12
        }
      ]
    },
    {
      "cell_type": "code",
      "metadata": {
        "trusted": true,
        "id": "J_rxptYNHjyu",
        "colab_type": "code",
        "colab": {}
      },
      "source": [
        "X_drop_1 = X.drop(['nox','rm','tax','ptratio','age','black'],axis = 1)"
      ],
      "execution_count": 0,
      "outputs": []
    },
    {
      "cell_type": "code",
      "metadata": {
        "trusted": true,
        "id": "xa7i31QKHjy1",
        "colab_type": "code",
        "colab": {},
        "outputId": "b3b74ae7-9136-442a-c604-9a8930589acb"
      },
      "source": [
        "vif = pd.DataFrame()\n",
        "vif[\"VIF Factor\"] = [variance_inflation_factor(X_drop_1.values, i) for i in range(X_drop_1.shape[1])]\n",
        "vif[\"features\"] = X_drop_1.columns\n",
        "\n",
        "vif"
      ],
      "execution_count": 0,
      "outputs": [
        {
          "output_type": "execute_result",
          "data": {
            "text/plain": [
              "   VIF Factor features\n",
              "0    2.067135     crim\n",
              "1    2.299351       zn\n",
              "2    6.900077    indus\n",
              "3    1.086574     chas\n",
              "4    3.968908      dis\n",
              "5    4.678181      rad\n",
              "6    6.726973    lstat"
            ],
            "text/html": [
              "<div>\n",
              "<style scoped>\n",
              "    .dataframe tbody tr th:only-of-type {\n",
              "        vertical-align: middle;\n",
              "    }\n",
              "\n",
              "    .dataframe tbody tr th {\n",
              "        vertical-align: top;\n",
              "    }\n",
              "\n",
              "    .dataframe thead th {\n",
              "        text-align: right;\n",
              "    }\n",
              "</style>\n",
              "<table border=\"1\" class=\"dataframe\">\n",
              "  <thead>\n",
              "    <tr style=\"text-align: right;\">\n",
              "      <th></th>\n",
              "      <th>VIF Factor</th>\n",
              "      <th>features</th>\n",
              "    </tr>\n",
              "  </thead>\n",
              "  <tbody>\n",
              "    <tr>\n",
              "      <th>0</th>\n",
              "      <td>2.067135</td>\n",
              "      <td>crim</td>\n",
              "    </tr>\n",
              "    <tr>\n",
              "      <th>1</th>\n",
              "      <td>2.299351</td>\n",
              "      <td>zn</td>\n",
              "    </tr>\n",
              "    <tr>\n",
              "      <th>2</th>\n",
              "      <td>6.900077</td>\n",
              "      <td>indus</td>\n",
              "    </tr>\n",
              "    <tr>\n",
              "      <th>3</th>\n",
              "      <td>1.086574</td>\n",
              "      <td>chas</td>\n",
              "    </tr>\n",
              "    <tr>\n",
              "      <th>4</th>\n",
              "      <td>3.968908</td>\n",
              "      <td>dis</td>\n",
              "    </tr>\n",
              "    <tr>\n",
              "      <th>5</th>\n",
              "      <td>4.678181</td>\n",
              "      <td>rad</td>\n",
              "    </tr>\n",
              "    <tr>\n",
              "      <th>6</th>\n",
              "      <td>6.726973</td>\n",
              "      <td>lstat</td>\n",
              "    </tr>\n",
              "  </tbody>\n",
              "</table>\n",
              "</div>"
            ]
          },
          "metadata": {
            "tags": []
          },
          "execution_count": 14
        }
      ]
    },
    {
      "cell_type": "markdown",
      "metadata": {
        "id": "ncUUcxjxHjy4",
        "colab_type": "text"
      },
      "source": [
        "### --> Multi-collinearity is required from statistical point of view but not from accuracy point of view.\n",
        "### --> We will ignore handling multi-collinearity for now\n"
      ]
    },
    {
      "cell_type": "code",
      "metadata": {
        "trusted": true,
        "id": "KOe9VqywHjy4",
        "colab_type": "code",
        "colab": {}
      },
      "source": [
        "from sklearn.model_selection import train_test_split"
      ],
      "execution_count": 0,
      "outputs": []
    },
    {
      "cell_type": "code",
      "metadata": {
        "trusted": true,
        "id": "yDmElOpgHjy7",
        "colab_type": "code",
        "colab": {}
      },
      "source": [
        "X_train,X_test,y_train,y_test = train_test_split(X,y,random_state = 3, test_size = 0.3)"
      ],
      "execution_count": 0,
      "outputs": []
    },
    {
      "cell_type": "code",
      "metadata": {
        "trusted": true,
        "id": "198KIeYRHjy-",
        "colab_type": "code",
        "colab": {},
        "outputId": "86462168-538b-4d94-9fe5-b356eec4e9c5"
      },
      "source": [
        "X_train.shape"
      ],
      "execution_count": 0,
      "outputs": [
        {
          "output_type": "execute_result",
          "data": {
            "text/plain": [
              "(354, 13)"
            ]
          },
          "metadata": {
            "tags": []
          },
          "execution_count": 17
        }
      ]
    },
    {
      "cell_type": "code",
      "metadata": {
        "trusted": true,
        "id": "RP-Ry0A6HjzD",
        "colab_type": "code",
        "colab": {}
      },
      "source": [
        "import statsmodels.api as sm"
      ],
      "execution_count": 0,
      "outputs": []
    },
    {
      "cell_type": "code",
      "metadata": {
        "trusted": true,
        "id": "u_iUXRsUHjzG",
        "colab_type": "code",
        "colab": {}
      },
      "source": [
        "model = sm.OLS(y_train,X_train)\n",
        "regr = model.fit()"
      ],
      "execution_count": 0,
      "outputs": []
    },
    {
      "cell_type": "code",
      "metadata": {
        "trusted": true,
        "id": "TBns43HRHjzJ",
        "colab_type": "code",
        "colab": {},
        "outputId": "da46e467-a3a0-48d0-b58e-2df79127f28e"
      },
      "source": [
        "regr.summary()"
      ],
      "execution_count": 0,
      "outputs": [
        {
          "output_type": "execute_result",
          "data": {
            "text/plain": [
              "<class 'statsmodels.iolib.summary.Summary'>\n",
              "\"\"\"\n",
              "                                 OLS Regression Results                                \n",
              "=======================================================================================\n",
              "Dep. Variable:                   medv   R-squared (uncentered):                   0.960\n",
              "Model:                            OLS   Adj. R-squared (uncentered):              0.959\n",
              "Method:                 Least Squares   F-statistic:                              636.1\n",
              "Date:                Fri, 05 Jun 2020   Prob (F-statistic):                   4.75e-230\n",
              "Time:                        05:58:09   Log-Likelihood:                         -1062.7\n",
              "No. Observations:                 354   AIC:                                      2151.\n",
              "Df Residuals:                     341   BIC:                                      2202.\n",
              "Df Model:                          13                                                  \n",
              "Covariance Type:            nonrobust                                                  \n",
              "==============================================================================\n",
              "                 coef    std err          t      P>|t|      [0.025      0.975]\n",
              "------------------------------------------------------------------------------\n",
              "crim          -0.1298      0.037     -3.471      0.001      -0.203      -0.056\n",
              "zn             0.0479      0.018      2.696      0.007       0.013       0.083\n",
              "indus         -0.0647      0.078     -0.828      0.408      -0.218       0.089\n",
              "chas           3.9233      1.062      3.693      0.000       1.834       6.013\n",
              "nox           -0.2740      3.927     -0.070      0.944      -7.999       7.451\n",
              "rm             5.4133      0.372     14.563      0.000       4.682       6.145\n",
              "age            0.0015      0.017      0.088      0.930      -0.031       0.034\n",
              "dis           -0.8123      0.225     -3.618      0.000      -1.254      -0.371\n",
              "rad            0.1847      0.078      2.367      0.019       0.031       0.338\n",
              "tax           -0.0057      0.005     -1.220      0.223      -0.015       0.003\n",
              "ptratio       -0.3981      0.134     -2.969      0.003      -0.662      -0.134\n",
              "black          0.0173      0.003      5.349      0.000       0.011       0.024\n",
              "lstat         -0.4865      0.062     -7.878      0.000      -0.608      -0.365\n",
              "==============================================================================\n",
              "Omnibus:                      142.244   Durbin-Watson:                   1.752\n",
              "Prob(Omnibus):                  0.000   Jarque-Bera (JB):              778.640\n",
              "Skew:                           1.606   Prob(JB):                    8.33e-170\n",
              "Kurtosis:                       9.517   Cond. No.                     8.35e+03\n",
              "==============================================================================\n",
              "\n",
              "Warnings:\n",
              "[1] Standard Errors assume that the covariance matrix of the errors is correctly specified.\n",
              "[2] The condition number is large, 8.35e+03. This might indicate that there are\n",
              "strong multicollinearity or other numerical problems.\n",
              "\"\"\""
            ],
            "text/html": [
              "<table class=\"simpletable\">\n",
              "<caption>OLS Regression Results</caption>\n",
              "<tr>\n",
              "  <th>Dep. Variable:</th>          <td>medv</td>       <th>  R-squared (uncentered):</th>      <td>   0.960</td> \n",
              "</tr>\n",
              "<tr>\n",
              "  <th>Model:</th>                   <td>OLS</td>       <th>  Adj. R-squared (uncentered):</th> <td>   0.959</td> \n",
              "</tr>\n",
              "<tr>\n",
              "  <th>Method:</th>             <td>Least Squares</td>  <th>  F-statistic:       </th>          <td>   636.1</td> \n",
              "</tr>\n",
              "<tr>\n",
              "  <th>Date:</th>             <td>Fri, 05 Jun 2020</td> <th>  Prob (F-statistic):</th>          <td>4.75e-230</td>\n",
              "</tr>\n",
              "<tr>\n",
              "  <th>Time:</th>                 <td>05:58:09</td>     <th>  Log-Likelihood:    </th>          <td> -1062.7</td> \n",
              "</tr>\n",
              "<tr>\n",
              "  <th>No. Observations:</th>      <td>   354</td>      <th>  AIC:               </th>          <td>   2151.</td> \n",
              "</tr>\n",
              "<tr>\n",
              "  <th>Df Residuals:</th>          <td>   341</td>      <th>  BIC:               </th>          <td>   2202.</td> \n",
              "</tr>\n",
              "<tr>\n",
              "  <th>Df Model:</th>              <td>    13</td>      <th>                     </th>              <td> </td>    \n",
              "</tr>\n",
              "<tr>\n",
              "  <th>Covariance Type:</th>      <td>nonrobust</td>    <th>                     </th>              <td> </td>    \n",
              "</tr>\n",
              "</table>\n",
              "<table class=\"simpletable\">\n",
              "<tr>\n",
              "     <td></td>        <th>coef</th>     <th>std err</th>      <th>t</th>      <th>P>|t|</th>  <th>[0.025</th>    <th>0.975]</th>  \n",
              "</tr>\n",
              "<tr>\n",
              "  <th>crim</th>    <td>   -0.1298</td> <td>    0.037</td> <td>   -3.471</td> <td> 0.001</td> <td>   -0.203</td> <td>   -0.056</td>\n",
              "</tr>\n",
              "<tr>\n",
              "  <th>zn</th>      <td>    0.0479</td> <td>    0.018</td> <td>    2.696</td> <td> 0.007</td> <td>    0.013</td> <td>    0.083</td>\n",
              "</tr>\n",
              "<tr>\n",
              "  <th>indus</th>   <td>   -0.0647</td> <td>    0.078</td> <td>   -0.828</td> <td> 0.408</td> <td>   -0.218</td> <td>    0.089</td>\n",
              "</tr>\n",
              "<tr>\n",
              "  <th>chas</th>    <td>    3.9233</td> <td>    1.062</td> <td>    3.693</td> <td> 0.000</td> <td>    1.834</td> <td>    6.013</td>\n",
              "</tr>\n",
              "<tr>\n",
              "  <th>nox</th>     <td>   -0.2740</td> <td>    3.927</td> <td>   -0.070</td> <td> 0.944</td> <td>   -7.999</td> <td>    7.451</td>\n",
              "</tr>\n",
              "<tr>\n",
              "  <th>rm</th>      <td>    5.4133</td> <td>    0.372</td> <td>   14.563</td> <td> 0.000</td> <td>    4.682</td> <td>    6.145</td>\n",
              "</tr>\n",
              "<tr>\n",
              "  <th>age</th>     <td>    0.0015</td> <td>    0.017</td> <td>    0.088</td> <td> 0.930</td> <td>   -0.031</td> <td>    0.034</td>\n",
              "</tr>\n",
              "<tr>\n",
              "  <th>dis</th>     <td>   -0.8123</td> <td>    0.225</td> <td>   -3.618</td> <td> 0.000</td> <td>   -1.254</td> <td>   -0.371</td>\n",
              "</tr>\n",
              "<tr>\n",
              "  <th>rad</th>     <td>    0.1847</td> <td>    0.078</td> <td>    2.367</td> <td> 0.019</td> <td>    0.031</td> <td>    0.338</td>\n",
              "</tr>\n",
              "<tr>\n",
              "  <th>tax</th>     <td>   -0.0057</td> <td>    0.005</td> <td>   -1.220</td> <td> 0.223</td> <td>   -0.015</td> <td>    0.003</td>\n",
              "</tr>\n",
              "<tr>\n",
              "  <th>ptratio</th> <td>   -0.3981</td> <td>    0.134</td> <td>   -2.969</td> <td> 0.003</td> <td>   -0.662</td> <td>   -0.134</td>\n",
              "</tr>\n",
              "<tr>\n",
              "  <th>black</th>   <td>    0.0173</td> <td>    0.003</td> <td>    5.349</td> <td> 0.000</td> <td>    0.011</td> <td>    0.024</td>\n",
              "</tr>\n",
              "<tr>\n",
              "  <th>lstat</th>   <td>   -0.4865</td> <td>    0.062</td> <td>   -7.878</td> <td> 0.000</td> <td>   -0.608</td> <td>   -0.365</td>\n",
              "</tr>\n",
              "</table>\n",
              "<table class=\"simpletable\">\n",
              "<tr>\n",
              "  <th>Omnibus:</th>       <td>142.244</td> <th>  Durbin-Watson:     </th> <td>   1.752</td> \n",
              "</tr>\n",
              "<tr>\n",
              "  <th>Prob(Omnibus):</th> <td> 0.000</td>  <th>  Jarque-Bera (JB):  </th> <td> 778.640</td> \n",
              "</tr>\n",
              "<tr>\n",
              "  <th>Skew:</th>          <td> 1.606</td>  <th>  Prob(JB):          </th> <td>8.33e-170</td>\n",
              "</tr>\n",
              "<tr>\n",
              "  <th>Kurtosis:</th>      <td> 9.517</td>  <th>  Cond. No.          </th> <td>8.35e+03</td> \n",
              "</tr>\n",
              "</table><br/><br/>Warnings:<br/>[1] Standard Errors assume that the covariance matrix of the errors is correctly specified.<br/>[2] The condition number is large, 8.35e+03. This might indicate that there are<br/>strong multicollinearity or other numerical problems."
            ]
          },
          "metadata": {
            "tags": []
          },
          "execution_count": 20
        }
      ]
    },
    {
      "cell_type": "code",
      "metadata": {
        "trusted": true,
        "id": "u7-cIW2nHjzL",
        "colab_type": "code",
        "colab": {},
        "outputId": "fd67455a-32b0-445c-9ca8-9b59da442f9e"
      },
      "source": [
        "#qqpolot vs. normal distribution\n",
        "sm.qqplot(regr.resid)"
      ],
      "execution_count": 0,
      "outputs": [
        {
          "output_type": "execute_result",
          "data": {
            "text/plain": [
              "<Figure size 432x288 with 1 Axes>"
            ],
            "image/png": "[encoded data removed]"
          },
          "metadata": {
            "tags": []
          },
          "execution_count": 21
        },
        {
          "output_type": "display_data",
          "data": {
            "text/plain": [
              "<Figure size 432x288 with 1 Axes>"
            ],
            "image/png": "[encoded data removed]"
          },
          "metadata": {
            "tags": [],
            "needs_background": "light"
          }
        }
      ]
    },
    {
      "cell_type": "markdown",
      "metadata": {
        "id": "8TltzIbdHjzO",
        "colab_type": "text"
      },
      "source": [
        "### --> Normality of errors is also required from statistical inference point of view"
      ]
    },
    {
      "cell_type": "code",
      "metadata": {
        "trusted": true,
        "id": "SzHFYvE0HjzO",
        "colab_type": "code",
        "colab": {},
        "outputId": "e8e52221-db1d-4097-f112-d3b544473e05"
      },
      "source": [
        "#graphical representation of the influences()\n",
        "sm.graphics.influence_plot(regr)"
      ],
      "execution_count": 0,
      "outputs": [
        {
          "output_type": "execute_result",
          "data": {
            "text/plain": [
              "<Figure size 432x288 with 1 Axes>"
            ],
            "image/png": "[encoded data removed]"
          },
          "metadata": {
            "tags": []
          },
          "execution_count": 22
        },
        {
          "output_type": "display_data",
          "data": {
            "text/plain": [
              "<Figure size 432x288 with 1 Axes>"
            ],
            "image/png": "[encoded data removed]"
          },
          "metadata": {
            "tags": [],
            "needs_background": "light"
          }
        }
      ]
    },
    {
      "cell_type": "markdown",
      "metadata": {
        "id": "m584Sab6HjzS",
        "colab_type": "text"
      },
      "source": [
        "### --> There are quite a few influence points"
      ]
    },
    {
      "cell_type": "markdown",
      "metadata": {
        "id": "qY1iXH3hHjzS",
        "colab_type": "text"
      },
      "source": [
        "# Influence points based on outlier criteria"
      ]
    },
    {
      "cell_type": "code",
      "metadata": {
        "trusted": true,
        "id": "X1B14vz8HjzT",
        "colab_type": "code",
        "colab": {},
        "outputId": "e214774f-3407-4373-eb12-e55a902f7b2f"
      },
      "source": [
        "regr.outlier_test()"
      ],
      "execution_count": 0,
      "outputs": [
        {
          "output_type": "execute_result",
          "data": {
            "text/plain": [
              "     student_resid   unadj_p   bonf(p)\n",
              "359       0.033368  0.973400  1.000000\n",
              "374       3.155229  0.001747  0.618404\n",
              "98        1.618956  0.106384  1.000000\n",
              "273      -0.552729  0.580812  1.000000\n",
              "329      -0.334445  0.738250  1.000000\n",
              "..             ...       ...       ...\n",
              "440      -0.815449  0.415386  1.000000\n",
              "131      -0.392208  0.695150  1.000000\n",
              "249       0.041243  0.967127  1.000000\n",
              "152      -1.223930  0.221826  1.000000\n",
              "362       0.198336  0.842900  1.000000\n",
              "\n",
              "[354 rows x 3 columns]"
            ],
            "text/html": [
              "<div>\n",
              "<style scoped>\n",
              "    .dataframe tbody tr th:only-of-type {\n",
              "        vertical-align: middle;\n",
              "    }\n",
              "\n",
              "    .dataframe tbody tr th {\n",
              "        vertical-align: top;\n",
              "    }\n",
              "\n",
              "    .dataframe thead th {\n",
              "        text-align: right;\n",
              "    }\n",
              "</style>\n",
              "<table border=\"1\" class=\"dataframe\">\n",
              "  <thead>\n",
              "    <tr style=\"text-align: right;\">\n",
              "      <th></th>\n",
              "      <th>student_resid</th>\n",
              "      <th>unadj_p</th>\n",
              "      <th>bonf(p)</th>\n",
              "    </tr>\n",
              "  </thead>\n",
              "  <tbody>\n",
              "    <tr>\n",
              "      <th>359</th>\n",
              "      <td>0.033368</td>\n",
              "      <td>0.973400</td>\n",
              "      <td>1.000000</td>\n",
              "    </tr>\n",
              "    <tr>\n",
              "      <th>374</th>\n",
              "      <td>3.155229</td>\n",
              "      <td>0.001747</td>\n",
              "      <td>0.618404</td>\n",
              "    </tr>\n",
              "    <tr>\n",
              "      <th>98</th>\n",
              "      <td>1.618956</td>\n",
              "      <td>0.106384</td>\n",
              "      <td>1.000000</td>\n",
              "    </tr>\n",
              "    <tr>\n",
              "      <th>273</th>\n",
              "      <td>-0.552729</td>\n",
              "      <td>0.580812</td>\n",
              "      <td>1.000000</td>\n",
              "    </tr>\n",
              "    <tr>\n",
              "      <th>329</th>\n",
              "      <td>-0.334445</td>\n",
              "      <td>0.738250</td>\n",
              "      <td>1.000000</td>\n",
              "    </tr>\n",
              "    <tr>\n",
              "      <th>...</th>\n",
              "      <td>...</td>\n",
              "      <td>...</td>\n",
              "      <td>...</td>\n",
              "    </tr>\n",
              "    <tr>\n",
              "      <th>440</th>\n",
              "      <td>-0.815449</td>\n",
              "      <td>0.415386</td>\n",
              "      <td>1.000000</td>\n",
              "    </tr>\n",
              "    <tr>\n",
              "      <th>131</th>\n",
              "      <td>-0.392208</td>\n",
              "      <td>0.695150</td>\n",
              "      <td>1.000000</td>\n",
              "    </tr>\n",
              "    <tr>\n",
              "      <th>249</th>\n",
              "      <td>0.041243</td>\n",
              "      <td>0.967127</td>\n",
              "      <td>1.000000</td>\n",
              "    </tr>\n",
              "    <tr>\n",
              "      <th>152</th>\n",
              "      <td>-1.223930</td>\n",
              "      <td>0.221826</td>\n",
              "      <td>1.000000</td>\n",
              "    </tr>\n",
              "    <tr>\n",
              "      <th>362</th>\n",
              "      <td>0.198336</td>\n",
              "      <td>0.842900</td>\n",
              "      <td>1.000000</td>\n",
              "    </tr>\n",
              "  </tbody>\n",
              "</table>\n",
              "<p>354 rows × 3 columns</p>\n",
              "</div>"
            ]
          },
          "metadata": {
            "tags": []
          },
          "execution_count": 23
        }
      ]
    },
    {
      "cell_type": "code",
      "metadata": {
        "trusted": true,
        "id": "UWFk_s-kHjzW",
        "colab_type": "code",
        "colab": {},
        "outputId": "3dca9d4c-ef8c-4452-844b-6079ab427322"
      },
      "source": [
        "(regr.outlier_test()['student_resid'] > 3).sum()"
      ],
      "execution_count": 0,
      "outputs": [
        {
          "output_type": "execute_result",
          "data": {
            "text/plain": [
              "7"
            ]
          },
          "metadata": {
            "tags": []
          },
          "execution_count": 24
        }
      ]
    },
    {
      "cell_type": "code",
      "metadata": {
        "trusted": true,
        "id": "LOntKigdHjza",
        "colab_type": "code",
        "colab": {},
        "outputId": "4e85d77e-793a-40c5-9900-f7f8458156ca"
      },
      "source": [
        "(regr.outlier_test()['student_resid'] < -3).sum()"
      ],
      "execution_count": 0,
      "outputs": [
        {
          "output_type": "execute_result",
          "data": {
            "text/plain": [
              "0"
            ]
          },
          "metadata": {
            "tags": []
          },
          "execution_count": 25
        }
      ]
    },
    {
      "cell_type": "code",
      "metadata": {
        "trusted": true,
        "id": "sX3f3lKvHjzd",
        "colab_type": "code",
        "colab": {}
      },
      "source": [
        "outlier_upp = regr.outlier_test()['student_resid'] > 3"
      ],
      "execution_count": 0,
      "outputs": []
    },
    {
      "cell_type": "code",
      "metadata": {
        "trusted": true,
        "id": "jhUP8VaUHjzg",
        "colab_type": "code",
        "colab": {}
      },
      "source": [
        "outlier_low = regr.outlier_test()['student_resid'] < -3"
      ],
      "execution_count": 0,
      "outputs": []
    },
    {
      "cell_type": "code",
      "metadata": {
        "trusted": true,
        "id": "eoIDHJXWHjzi",
        "colab_type": "code",
        "colab": {}
      },
      "source": [
        "outlier = np.logical_or(outlier_low, outlier_upp)"
      ],
      "execution_count": 0,
      "outputs": []
    },
    {
      "cell_type": "markdown",
      "metadata": {
        "id": "U0JVPocZHjzl",
        "colab_type": "text"
      },
      "source": [
        "# Influence points based on Leverage Statistic"
      ]
    },
    {
      "cell_type": "code",
      "metadata": {
        "trusted": true,
        "id": "TJguOHzhHjzm",
        "colab_type": "code",
        "colab": {},
        "outputId": "1225fef0-1f40-4f6f-9975-078aef9c4432"
      },
      "source": [
        "infl = regr.get_influence()\n",
        "infl"
      ],
      "execution_count": 0,
      "outputs": [
        {
          "output_type": "execute_result",
          "data": {
            "text/plain": [
              "<statsmodels.stats.outliers_influence.OLSInfluence at 0x7f827b3a5990>"
            ]
          },
          "metadata": {
            "tags": []
          },
          "execution_count": 29
        }
      ]
    },
    {
      "cell_type": "code",
      "metadata": {
        "trusted": true,
        "id": "CIIPZd_rHjzp",
        "colab_type": "code",
        "colab": {},
        "outputId": "95f0064b-be4e-419f-efea-036e79bb30c9"
      },
      "source": [
        "leviers = infl.hat_matrix_diag #leverage\n",
        "leviers[:10]"
      ],
      "execution_count": 0,
      "outputs": [
        {
          "output_type": "execute_result",
          "data": {
            "text/plain": [
              "array([0.02900116, 0.0668746 , 0.03593382, 0.05134291, 0.05648497,\n",
              "       0.02588316, 0.07417012, 0.02763276, 0.06873466, 0.0158589 ])"
            ]
          },
          "metadata": {
            "tags": []
          },
          "execution_count": 30
        }
      ]
    },
    {
      "cell_type": "code",
      "metadata": {
        "trusted": true,
        "id": "snjR-VFUHjzr",
        "colab_type": "code",
        "colab": {}
      },
      "source": [
        "high_lev = leviers>0.08"
      ],
      "execution_count": 0,
      "outputs": []
    },
    {
      "cell_type": "code",
      "metadata": {
        "trusted": true,
        "id": "RfhP2_PQHjzt",
        "colab_type": "code",
        "colab": {}
      },
      "source": [
        "influ_pts = np.logical_or(outlier, high_lev)"
      ],
      "execution_count": 0,
      "outputs": []
    },
    {
      "cell_type": "code",
      "metadata": {
        "trusted": true,
        "id": "OWPqFfiUHjzw",
        "colab_type": "code",
        "colab": {}
      },
      "source": [
        "influ_index = X_train.index[influ_pts]"
      ],
      "execution_count": 0,
      "outputs": []
    },
    {
      "cell_type": "code",
      "metadata": {
        "trusted": true,
        "id": "q3d-5FhlHjz0",
        "colab_type": "code",
        "colab": {}
      },
      "source": [
        "X_train = X_train.drop(influ_index)"
      ],
      "execution_count": 0,
      "outputs": []
    },
    {
      "cell_type": "code",
      "metadata": {
        "trusted": true,
        "id": "aStaeFzpHjz2",
        "colab_type": "code",
        "colab": {}
      },
      "source": [
        "y_train = y_train.drop(influ_index)"
      ],
      "execution_count": 0,
      "outputs": []
    },
    {
      "cell_type": "code",
      "metadata": {
        "trusted": true,
        "id": "_xLUc-LwHjz5",
        "colab_type": "code",
        "colab": {},
        "outputId": "b083732f-4fe2-43c4-d10f-56d731c04a37"
      },
      "source": [
        "y_train.head()"
      ],
      "execution_count": 0,
      "outputs": [
        {
          "output_type": "execute_result",
          "data": {
            "text/plain": [
              "359    22.6\n",
              "98     43.8\n",
              "273    35.2\n",
              "329    22.6\n",
              "170    17.4\n",
              "Name: medv, dtype: float64"
            ]
          },
          "metadata": {
            "tags": []
          },
          "execution_count": 36
        }
      ]
    },
    {
      "cell_type": "markdown",
      "metadata": {
        "id": "gb-wg5npHjz9",
        "colab_type": "text"
      },
      "source": [
        "# (((((("
      ]
    },
    {
      "cell_type": "code",
      "metadata": {
        "trusted": true,
        "id": "e01iCWOcHjz9",
        "colab_type": "code",
        "colab": {}
      },
      "source": [
        "# import statsmodels.api as sm\n",
        "\n",
        "# from statsmodels.gam.api import GLMGam, BSplines\n",
        "\n",
        "# # import data\n",
        "# # from statsmodels.gam.tests.test_penalized import df_autos"
      ],
      "execution_count": 0,
      "outputs": []
    },
    {
      "cell_type": "code",
      "metadata": {
        "trusted": true,
        "id": "vhBzi3dyHjz_",
        "colab_type": "code",
        "colab": {}
      },
      "source": [
        "# house_train = pd.concat([X_train,y_train],axis = 1)"
      ],
      "execution_count": 0,
      "outputs": []
    },
    {
      "cell_type": "code",
      "metadata": {
        "trusted": true,
        "id": "w6KRR8krHj0B",
        "colab_type": "code",
        "colab": {}
      },
      "source": [
        "# house_train.head()"
      ],
      "execution_count": 0,
      "outputs": []
    },
    {
      "cell_type": "code",
      "metadata": {
        "trusted": true,
        "id": "RtIOePchHj0C",
        "colab_type": "code",
        "colab": {}
      },
      "source": [
        "# house_train.shape"
      ],
      "execution_count": 0,
      "outputs": []
    },
    {
      "cell_type": "code",
      "metadata": {
        "trusted": true,
        "id": "JBd8NzJGHj0H",
        "colab_type": "code",
        "colab": {}
      },
      "source": [
        "# house_train.columns"
      ],
      "execution_count": 0,
      "outputs": []
    },
    {
      "cell_type": "code",
      "metadata": {
        "trusted": true,
        "id": "OcNson9tHj0J",
        "colab_type": "code",
        "colab": {}
      },
      "source": [
        "# # create spline basis for weight and hp\n",
        "# x_spline = copy.deepcopy(X_train)\n",
        "\n",
        "# # bs = BSplines(x_spline, df=[12, 10], degree=[3, 3])\n",
        "# bs = BSplines(x_spline, df=[4,4,4,10,4,4,4,4,4,4,4,4,4], degree=[3,3,3,3,3,3,3,3,3,3,3,3,3])\n",
        "\n",
        "# # penalization weight\n",
        "# # alpha = np.array([21833888.8, 6460.38479])\n",
        "\n",
        "# gam_bs = GLMGam.from_formula('medv ~ crim + zn + indus + chas + nox + rm + age + dis + rad + tax + ptratio + black + lstat', data=house_train,\\\n",
        "#                            smoother=bs)#, alpha=alpha)\n",
        "\n",
        "# res_bs = gam_bs.fit()\n",
        "\n",
        "# print(res_bs.summary())"
      ],
      "execution_count": 0,
      "outputs": []
    },
    {
      "cell_type": "code",
      "metadata": {
        "trusted": true,
        "id": "gu6U_Qi3Hj0N",
        "colab_type": "code",
        "colab": {}
      },
      "source": [
        "# res_bs.plot_partial(0, cpr=True)"
      ],
      "execution_count": 0,
      "outputs": []
    },
    {
      "cell_type": "code",
      "metadata": {
        "trusted": true,
        "id": "CYShisEaHj0Q",
        "colab_type": "code",
        "colab": {}
      },
      "source": [
        "# res_bs.plot_partial(1, cpr=True)"
      ],
      "execution_count": 0,
      "outputs": []
    },
    {
      "cell_type": "code",
      "metadata": {
        "trusted": true,
        "id": "UF-zU3gVHj0U",
        "colab_type": "code",
        "colab": {}
      },
      "source": [
        "# res_bs.plot_partial(3, cpr=True)"
      ],
      "execution_count": 0,
      "outputs": []
    },
    {
      "cell_type": "markdown",
      "metadata": {
        "id": "rnmDjKvaHj0X",
        "colab_type": "text"
      },
      "source": [
        "# ))))))))"
      ]
    },
    {
      "cell_type": "markdown",
      "metadata": {
        "id": "YxlgCg95Hj0Y",
        "colab_type": "text"
      },
      "source": [
        "# Build Smoothing Splines"
      ]
    },
    {
      "cell_type": "code",
      "metadata": {
        "trusted": true,
        "id": "3DKhVX8eHj0Z",
        "colab_type": "code",
        "colab": {},
        "outputId": "4eaad835-b47a-4d89-f56c-8416299cc3b7"
      },
      "source": [
        "pip install pygam"
      ],
      "execution_count": 0,
      "outputs": [
        {
          "output_type": "stream",
          "text": [
            "Collecting pygam\n",
            "  Downloading pygam-0.8.0-py2.py3-none-any.whl (1.8 MB)\n",
            "\u001b[K     |████████████████████████████████| 1.8 MB 4.1 MB/s eta 0:00:01\n",
            "\u001b[?25hRequirement already satisfied: future in /opt/conda/lib/python3.7/site-packages (from pygam) (0.18.2)\n",
            "Requirement already satisfied: scipy in /opt/conda/lib/python3.7/site-packages (from pygam) (1.4.1)\n",
            "Requirement already satisfied: numpy in /opt/conda/lib/python3.7/site-packages (from pygam) (1.18.1)\n",
            "Collecting progressbar2\n",
            "  Downloading progressbar2-3.51.3-py2.py3-none-any.whl (51 kB)\n",
            "\u001b[K     |████████████████████████████████| 51 kB 45 kB/s s eta 0:00:01\n",
            "\u001b[?25hRequirement already satisfied: six in /opt/conda/lib/python3.7/site-packages (from progressbar2->pygam) (1.14.0)\n",
            "Collecting python-utils>=2.3.0\n",
            "  Downloading python_utils-2.4.0-py2.py3-none-any.whl (12 kB)\n",
            "Installing collected packages: python-utils, progressbar2, pygam\n",
            "Successfully installed progressbar2-3.51.3 pygam-0.8.0 python-utils-2.4.0\n",
            "\u001b[33mWARNING: You are using pip version 20.1; however, version 20.1.1 is available.\n",
            "You should consider upgrading via the '/opt/conda/bin/python3.7 -m pip install --upgrade pip' command.\u001b[0m\n",
            "Note: you may need to restart the kernel to use updated packages.\n"
          ],
          "name": "stdout"
        }
      ]
    },
    {
      "cell_type": "code",
      "metadata": {
        "trusted": true,
        "id": "YnHZ-qO_Hj0b",
        "colab_type": "code",
        "colab": {}
      },
      "source": [
        "# from pygam import GAM, s, f"
      ],
      "execution_count": 0,
      "outputs": []
    },
    {
      "cell_type": "code",
      "metadata": {
        "trusted": true,
        "id": "DHtLntF4Hj0e",
        "colab_type": "code",
        "colab": {}
      },
      "source": [
        "# gam = GAM(s(0, n_splines=5) + s(1) + f(2) + s(3), distribution=’gamma’, link=’log’)"
      ],
      "execution_count": 0,
      "outputs": []
    },
    {
      "cell_type": "code",
      "metadata": {
        "trusted": true,
        "id": "99C0TLOlHj0g",
        "colab_type": "code",
        "colab": {}
      },
      "source": [
        "# from pygam import PoissonGAM\n",
        "# gam = PoissonGAM(s(0, n_splines=5) + s(1) + f(2) + s(3))"
      ],
      "execution_count": 0,
      "outputs": []
    },
    {
      "cell_type": "code",
      "metadata": {
        "trusted": true,
        "id": "Zgh5q2QJHj0h",
        "colab_type": "code",
        "colab": {},
        "outputId": "2c0f93bc-c8ed-4e8c-9dba-9015c553cadf"
      },
      "source": [
        "X_train.head()"
      ],
      "execution_count": 0,
      "outputs": [
        {
          "output_type": "execute_result",
          "data": {
            "text/plain": [
              "        crim    zn  indus  chas    nox     rm   age     dis  rad  tax  \\\n",
              "359  4.26131   0.0  18.10     0  0.770  6.112  81.3  2.5091   24  666   \n",
              "98   0.08187   0.0   2.89     0  0.445  7.820  36.9  3.4952    2  276   \n",
              "273  0.22188  20.0   6.96     1  0.464  7.691  51.8  4.3665    3  223   \n",
              "329  0.06724   0.0   3.24     0  0.460  6.333  17.2  5.2146    4  430   \n",
              "170  1.20742   0.0  19.58     0  0.605  5.875  94.6  2.4259    5  403   \n",
              "\n",
              "     ptratio   black  lstat  \n",
              "359     20.2  390.74  12.67  \n",
              "98      18.0  393.53   3.57  \n",
              "273     18.6  390.77   6.58  \n",
              "329     16.9  375.21   7.34  \n",
              "170     14.7  292.29  14.43  "
            ],
            "text/html": [
              "<div>\n",
              "<style scoped>\n",
              "    .dataframe tbody tr th:only-of-type {\n",
              "        vertical-align: middle;\n",
              "    }\n",
              "\n",
              "    .dataframe tbody tr th {\n",
              "        vertical-align: top;\n",
              "    }\n",
              "\n",
              "    .dataframe thead th {\n",
              "        text-align: right;\n",
              "    }\n",
              "</style>\n",
              "<table border=\"1\" class=\"dataframe\">\n",
              "  <thead>\n",
              "    <tr style=\"text-align: right;\">\n",
              "      <th></th>\n",
              "      <th>crim</th>\n",
              "      <th>zn</th>\n",
              "      <th>indus</th>\n",
              "      <th>chas</th>\n",
              "      <th>nox</th>\n",
              "      <th>rm</th>\n",
              "      <th>age</th>\n",
              "      <th>dis</th>\n",
              "      <th>rad</th>\n",
              "      <th>tax</th>\n",
              "      <th>ptratio</th>\n",
              "      <th>black</th>\n",
              "      <th>lstat</th>\n",
              "    </tr>\n",
              "  </thead>\n",
              "  <tbody>\n",
              "    <tr>\n",
              "      <th>359</th>\n",
              "      <td>4.26131</td>\n",
              "      <td>0.0</td>\n",
              "      <td>18.10</td>\n",
              "      <td>0</td>\n",
              "      <td>0.770</td>\n",
              "      <td>6.112</td>\n",
              "      <td>81.3</td>\n",
              "      <td>2.5091</td>\n",
              "      <td>24</td>\n",
              "      <td>666</td>\n",
              "      <td>20.2</td>\n",
              "      <td>390.74</td>\n",
              "      <td>12.67</td>\n",
              "    </tr>\n",
              "    <tr>\n",
              "      <th>98</th>\n",
              "      <td>0.08187</td>\n",
              "      <td>0.0</td>\n",
              "      <td>2.89</td>\n",
              "      <td>0</td>\n",
              "      <td>0.445</td>\n",
              "      <td>7.820</td>\n",
              "      <td>36.9</td>\n",
              "      <td>3.4952</td>\n",
              "      <td>2</td>\n",
              "      <td>276</td>\n",
              "      <td>18.0</td>\n",
              "      <td>393.53</td>\n",
              "      <td>3.57</td>\n",
              "    </tr>\n",
              "    <tr>\n",
              "      <th>273</th>\n",
              "      <td>0.22188</td>\n",
              "      <td>20.0</td>\n",
              "      <td>6.96</td>\n",
              "      <td>1</td>\n",
              "      <td>0.464</td>\n",
              "      <td>7.691</td>\n",
              "      <td>51.8</td>\n",
              "      <td>4.3665</td>\n",
              "      <td>3</td>\n",
              "      <td>223</td>\n",
              "      <td>18.6</td>\n",
              "      <td>390.77</td>\n",
              "      <td>6.58</td>\n",
              "    </tr>\n",
              "    <tr>\n",
              "      <th>329</th>\n",
              "      <td>0.06724</td>\n",
              "      <td>0.0</td>\n",
              "      <td>3.24</td>\n",
              "      <td>0</td>\n",
              "      <td>0.460</td>\n",
              "      <td>6.333</td>\n",
              "      <td>17.2</td>\n",
              "      <td>5.2146</td>\n",
              "      <td>4</td>\n",
              "      <td>430</td>\n",
              "      <td>16.9</td>\n",
              "      <td>375.21</td>\n",
              "      <td>7.34</td>\n",
              "    </tr>\n",
              "    <tr>\n",
              "      <th>170</th>\n",
              "      <td>1.20742</td>\n",
              "      <td>0.0</td>\n",
              "      <td>19.58</td>\n",
              "      <td>0</td>\n",
              "      <td>0.605</td>\n",
              "      <td>5.875</td>\n",
              "      <td>94.6</td>\n",
              "      <td>2.4259</td>\n",
              "      <td>5</td>\n",
              "      <td>403</td>\n",
              "      <td>14.7</td>\n",
              "      <td>292.29</td>\n",
              "      <td>14.43</td>\n",
              "    </tr>\n",
              "  </tbody>\n",
              "</table>\n",
              "</div>"
            ]
          },
          "metadata": {
            "tags": []
          },
          "execution_count": 50
        }
      ]
    },
    {
      "cell_type": "code",
      "metadata": {
        "trusted": true,
        "id": "TuSAmFTNHj0l",
        "colab_type": "code",
        "colab": {},
        "outputId": "972ff4d2-a2d8-4947-cc34-fa49016a654d"
      },
      "source": [
        "X_train.shape"
      ],
      "execution_count": 0,
      "outputs": [
        {
          "output_type": "execute_result",
          "data": {
            "text/plain": [
              "(327, 13)"
            ]
          },
          "metadata": {
            "tags": []
          },
          "execution_count": 51
        }
      ]
    },
    {
      "cell_type": "markdown",
      "metadata": {
        "id": "mRtX24uvHj0o",
        "colab_type": "text"
      },
      "source": [
        "# GAM"
      ]
    },
    {
      "cell_type": "code",
      "metadata": {
        "trusted": true,
        "id": "A0qIc__ZHj0o",
        "colab_type": "code",
        "colab": {}
      },
      "source": [
        "from pygam import LinearGAM, s, f"
      ],
      "execution_count": 0,
      "outputs": []
    },
    {
      "cell_type": "code",
      "metadata": {
        "trusted": true,
        "id": "27FmCCarHj0t",
        "colab_type": "code",
        "colab": {},
        "outputId": "852ac9d0-39a1-43eb-d184-95e6f74248d5"
      },
      "source": [
        "X_train.head()"
      ],
      "execution_count": 0,
      "outputs": [
        {
          "output_type": "execute_result",
          "data": {
            "text/plain": [
              "        crim    zn  indus  chas    nox     rm   age     dis  rad  tax  \\\n",
              "359  4.26131   0.0  18.10     0  0.770  6.112  81.3  2.5091   24  666   \n",
              "98   0.08187   0.0   2.89     0  0.445  7.820  36.9  3.4952    2  276   \n",
              "273  0.22188  20.0   6.96     1  0.464  7.691  51.8  4.3665    3  223   \n",
              "329  0.06724   0.0   3.24     0  0.460  6.333  17.2  5.2146    4  430   \n",
              "170  1.20742   0.0  19.58     0  0.605  5.875  94.6  2.4259    5  403   \n",
              "\n",
              "     ptratio   black  lstat  \n",
              "359     20.2  390.74  12.67  \n",
              "98      18.0  393.53   3.57  \n",
              "273     18.6  390.77   6.58  \n",
              "329     16.9  375.21   7.34  \n",
              "170     14.7  292.29  14.43  "
            ],
            "text/html": [
              "<div>\n",
              "<style scoped>\n",
              "    .dataframe tbody tr th:only-of-type {\n",
              "        vertical-align: middle;\n",
              "    }\n",
              "\n",
              "    .dataframe tbody tr th {\n",
              "        vertical-align: top;\n",
              "    }\n",
              "\n",
              "    .dataframe thead th {\n",
              "        text-align: right;\n",
              "    }\n",
              "</style>\n",
              "<table border=\"1\" class=\"dataframe\">\n",
              "  <thead>\n",
              "    <tr style=\"text-align: right;\">\n",
              "      <th></th>\n",
              "      <th>crim</th>\n",
              "      <th>zn</th>\n",
              "      <th>indus</th>\n",
              "      <th>chas</th>\n",
              "      <th>nox</th>\n",
              "      <th>rm</th>\n",
              "      <th>age</th>\n",
              "      <th>dis</th>\n",
              "      <th>rad</th>\n",
              "      <th>tax</th>\n",
              "      <th>ptratio</th>\n",
              "      <th>black</th>\n",
              "      <th>lstat</th>\n",
              "    </tr>\n",
              "  </thead>\n",
              "  <tbody>\n",
              "    <tr>\n",
              "      <th>359</th>\n",
              "      <td>4.26131</td>\n",
              "      <td>0.0</td>\n",
              "      <td>18.10</td>\n",
              "      <td>0</td>\n",
              "      <td>0.770</td>\n",
              "      <td>6.112</td>\n",
              "      <td>81.3</td>\n",
              "      <td>2.5091</td>\n",
              "      <td>24</td>\n",
              "      <td>666</td>\n",
              "      <td>20.2</td>\n",
              "      <td>390.74</td>\n",
              "      <td>12.67</td>\n",
              "    </tr>\n",
              "    <tr>\n",
              "      <th>98</th>\n",
              "      <td>0.08187</td>\n",
              "      <td>0.0</td>\n",
              "      <td>2.89</td>\n",
              "      <td>0</td>\n",
              "      <td>0.445</td>\n",
              "      <td>7.820</td>\n",
              "      <td>36.9</td>\n",
              "      <td>3.4952</td>\n",
              "      <td>2</td>\n",
              "      <td>276</td>\n",
              "      <td>18.0</td>\n",
              "      <td>393.53</td>\n",
              "      <td>3.57</td>\n",
              "    </tr>\n",
              "    <tr>\n",
              "      <th>273</th>\n",
              "      <td>0.22188</td>\n",
              "      <td>20.0</td>\n",
              "      <td>6.96</td>\n",
              "      <td>1</td>\n",
              "      <td>0.464</td>\n",
              "      <td>7.691</td>\n",
              "      <td>51.8</td>\n",
              "      <td>4.3665</td>\n",
              "      <td>3</td>\n",
              "      <td>223</td>\n",
              "      <td>18.6</td>\n",
              "      <td>390.77</td>\n",
              "      <td>6.58</td>\n",
              "    </tr>\n",
              "    <tr>\n",
              "      <th>329</th>\n",
              "      <td>0.06724</td>\n",
              "      <td>0.0</td>\n",
              "      <td>3.24</td>\n",
              "      <td>0</td>\n",
              "      <td>0.460</td>\n",
              "      <td>6.333</td>\n",
              "      <td>17.2</td>\n",
              "      <td>5.2146</td>\n",
              "      <td>4</td>\n",
              "      <td>430</td>\n",
              "      <td>16.9</td>\n",
              "      <td>375.21</td>\n",
              "      <td>7.34</td>\n",
              "    </tr>\n",
              "    <tr>\n",
              "      <th>170</th>\n",
              "      <td>1.20742</td>\n",
              "      <td>0.0</td>\n",
              "      <td>19.58</td>\n",
              "      <td>0</td>\n",
              "      <td>0.605</td>\n",
              "      <td>5.875</td>\n",
              "      <td>94.6</td>\n",
              "      <td>2.4259</td>\n",
              "      <td>5</td>\n",
              "      <td>403</td>\n",
              "      <td>14.7</td>\n",
              "      <td>292.29</td>\n",
              "      <td>14.43</td>\n",
              "    </tr>\n",
              "  </tbody>\n",
              "</table>\n",
              "</div>"
            ]
          },
          "metadata": {
            "tags": []
          },
          "execution_count": 53
        }
      ]
    },
    {
      "cell_type": "code",
      "metadata": {
        "trusted": true,
        "id": "_mqIqXmIHj0x",
        "colab_type": "code",
        "colab": {}
      },
      "source": [
        "gam = LinearGAM(s(0) + s(1) + s(2) + f(3) + s(4) + s(5) + s(6) + s(7) + s(8) + s(9) + s(10) + s(11) + s(12))"
      ],
      "execution_count": 0,
      "outputs": []
    },
    {
      "cell_type": "code",
      "metadata": {
        "trusted": true,
        "id": "4C5IoZX_Hj0z",
        "colab_type": "code",
        "colab": {},
        "outputId": "fa1d6eb6-d13e-4477-ce97-25857b351afa"
      },
      "source": [
        "gam.fit(X_train,y_train)"
      ],
      "execution_count": 0,
      "outputs": [
        {
          "output_type": "execute_result",
          "data": {
            "text/plain": [
              "LinearGAM(callbacks=[Deviance(), Diffs()], fit_intercept=True, \n",
              "   max_iter=100, scale=None, \n",
              "   terms=s(0) + s(1) + s(2) + f(3) + s(4) + s(5) + s(6) + s(7) + s(8) + s(9) + s(10) + s(11) + s(12) + intercept,\n",
              "   tol=0.0001, verbose=False)"
            ]
          },
          "metadata": {
            "tags": []
          },
          "execution_count": 55
        }
      ]
    },
    {
      "cell_type": "code",
      "metadata": {
        "trusted": true,
        "id": "rIok7cw1Hj05",
        "colab_type": "code",
        "colab": {},
        "outputId": "35da433e-b6af-4019-9f8c-555cd5fc0b16"
      },
      "source": [
        "gam.summary()"
      ],
      "execution_count": 0,
      "outputs": [
        {
          "output_type": "stream",
          "text": [
            "LinearGAM                                                                                                 \n",
            "=============================================== ==========================================================\n",
            "Distribution:                        NormalDist Effective DoF:                                     95.3129\n",
            "Link Function:                     IdentityLink Log Likelihood:                                   -899.461\n",
            "Number of Samples:                          327 AIC:                                             1991.5478\n",
            "                                                AICc:                                            2073.1588\n",
            "                                                GCV:                                               11.8889\n",
            "                                                Scale:                                              5.8794\n",
            "                                                Pseudo R-Squared:                                   0.9437\n",
            "==========================================================================================================\n",
            "Feature Function                  Lambda               Rank         EDoF         P > x        Sig. Code   \n",
            "================================= ==================== ============ ============ ============ ============\n",
            "s(0)                              [0.6]                20           12.3         9.30e-07     ***         \n",
            "s(1)                              [0.6]                20           13.3         8.39e-03     **          \n",
            "s(2)                              [0.6]                20           13.3         4.87e-02     *           \n",
            "f(3)                              [0.6]                2            1.1          1.11e-02     *           \n",
            "s(4)                              [0.6]                20           11.0         1.08e-06     ***         \n",
            "s(5)                              [0.6]                20           9.6          1.11e-16     ***         \n",
            "s(6)                              [0.6]                20           9.8          5.58e-01                 \n",
            "s(7)                              [0.6]                20           7.8          5.49e-04     ***         \n",
            "s(8)                              [0.6]                20           3.4          7.24e-03     **          \n",
            "s(9)                              [0.6]                20           3.1          1.36e-06     ***         \n",
            "s(10)                             [0.6]                20           1.6          3.93e-02     *           \n",
            "s(11)                             [0.6]                20           5.0          4.97e-02     *           \n",
            "s(12)                             [0.6]                20           3.8          1.20e-10     ***         \n",
            "intercept                                              1            0.0          1.11e-16     ***         \n",
            "==========================================================================================================\n",
            "Significance codes:  0 '***' 0.001 '**' 0.01 '*' 0.05 '.' 0.1 ' ' 1\n",
            "\n",
            "WARNING: Fitting splines and a linear function to a feature introduces a model identifiability problem\n",
            "         which can cause p-values to appear significant when they are not.\n",
            "\n",
            "WARNING: p-values calculated in this manner behave correctly for un-penalized models or models with\n",
            "         known smoothing parameters, but when smoothing parameters have been estimated, the p-values\n",
            "         are typically lower than they should be, meaning that the tests reject the null too readily.\n"
          ],
          "name": "stdout"
        },
        {
          "output_type": "stream",
          "text": [
            "/opt/conda/lib/python3.7/site-packages/ipykernel_launcher.py:1: UserWarning: KNOWN BUG: p-values computed in this summary are likely much smaller than they should be. \n",
            " \n",
            "Please do not make inferences based on these values! \n",
            "\n",
            "Collaborate on a solution, and stay up to date at: \n",
            "github.com/dswah/pyGAM/issues/163 \n",
            "\n",
            "  \"\"\"Entry point for launching an IPython kernel.\n"
          ],
          "name": "stderr"
        }
      ]
    },
    {
      "cell_type": "code",
      "metadata": {
        "trusted": true,
        "id": "8faUpKOzHj1A",
        "colab_type": "code",
        "colab": {},
        "outputId": "0e571576-bfca-4dd2-f156-c35a4cb4c3b6"
      },
      "source": [
        "((gam.predict(X_test) - y_test) ** 2).mean()"
      ],
      "execution_count": 0,
      "outputs": [
        {
          "output_type": "execute_result",
          "data": {
            "text/plain": [
              "13.035846554344733"
            ]
          },
          "metadata": {
            "tags": []
          },
          "execution_count": 57
        }
      ]
    },
    {
      "cell_type": "code",
      "metadata": {
        "trusted": true,
        "id": "Gjn2rrHGHj1E",
        "colab_type": "code",
        "colab": {},
        "outputId": "b99a868c-0df6-42f9-e603-55fd654c71ea"
      },
      "source": [
        "titles = X_train.columns\n",
        "plt.figure()\n",
        "fig, axs = plt.subplots(1,13,figsize=(40, 8))\n",
        "for i, ax in enumerate(axs):\n",
        "    XX = gam.generate_X_grid(term=i)\n",
        "    ax.plot(XX[:, i], gam.partial_dependence(term=i, X=XX))\n",
        "    ax.plot(XX[:, i], gam.partial_dependence(term=i, X=XX,   width=.95)[1], c='r', ls='--')\n",
        "    if i == 0:\n",
        "        ax.set_ylim(-30,30)\n",
        "    ax.set_title(titles[i])"
      ],
      "execution_count": 0,
      "outputs": [
        {
          "output_type": "display_data",
          "data": {
            "text/plain": [
              "<Figure size 432x288 with 0 Axes>"
            ]
          },
          "metadata": {
            "tags": []
          }
        },
        {
          "output_type": "display_data",
          "data": {
            "text/plain": [
              "<Figure size 2880x576 with 13 Axes>"
            ],
            "image/png": "[encoded data removed]"
          },
          "metadata": {
            "tags": [],
            "needs_background": "light"
          }
        }
      ]
    },
    {
      "cell_type": "markdown",
      "metadata": {
        "id": "3VywczklHj1G",
        "colab_type": "text"
      },
      "source": [
        "# Grid Search for lambda"
      ]
    },
    {
      "cell_type": "code",
      "metadata": {
        "trusted": true,
        "id": "a5ChMZIPHj1H",
        "colab_type": "code",
        "colab": {}
      },
      "source": [
        "# lams = np.random.rand(100, 13)\n",
        "# lams = lams * 13 - 3\n",
        "# lams = np.exp(lams)\n",
        "# print(lams.shape)"
      ],
      "execution_count": 0,
      "outputs": []
    },
    {
      "cell_type": "code",
      "metadata": {
        "trusted": true,
        "id": "oSE9cV1RHj1J",
        "colab_type": "code",
        "colab": {}
      },
      "source": [
        "# np.logspace(-3,3,11)"
      ],
      "execution_count": 0,
      "outputs": []
    },
    {
      "cell_type": "code",
      "metadata": {
        "trusted": true,
        "id": "lyStYQlkHj1L",
        "colab_type": "code",
        "colab": {}
      },
      "source": [
        "lams = np.array([np.random.choice([0],13),np.random.choice([5],13),np.random.choice([10],13),np.random.choice([15],13),np.random.choice([20],13),np.random.choice([25],13),\\\n",
        "               np.random.choice([30],13),np.random.choice([35],13),np.random.choice([40],13),np.random.choice([45],13),np.random.choice([50],13),np.random.choice([55],13)\\\n",
        "                ,np.random.choice([60],13),np.random.choice([65],13)])"
      ],
      "execution_count": 0,
      "outputs": []
    },
    {
      "cell_type": "code",
      "metadata": {
        "trusted": true,
        "id": "QQ4SypSAHj1N",
        "colab_type": "code",
        "colab": {},
        "outputId": "1912a2b6-6fa6-48ed-a033-2c9d69394c37"
      },
      "source": [
        "lams"
      ],
      "execution_count": 0,
      "outputs": [
        {
          "output_type": "execute_result",
          "data": {
            "text/plain": [
              "array([[ 0,  0,  0,  0,  0,  0,  0,  0,  0,  0,  0,  0,  0],\n",
              "       [ 5,  5,  5,  5,  5,  5,  5,  5,  5,  5,  5,  5,  5],\n",
              "       [10, 10, 10, 10, 10, 10, 10, 10, 10, 10, 10, 10, 10],\n",
              "       [15, 15, 15, 15, 15, 15, 15, 15, 15, 15, 15, 15, 15],\n",
              "       [20, 20, 20, 20, 20, 20, 20, 20, 20, 20, 20, 20, 20],\n",
              "       [25, 25, 25, 25, 25, 25, 25, 25, 25, 25, 25, 25, 25],\n",
              "       [30, 30, 30, 30, 30, 30, 30, 30, 30, 30, 30, 30, 30],\n",
              "       [35, 35, 35, 35, 35, 35, 35, 35, 35, 35, 35, 35, 35],\n",
              "       [40, 40, 40, 40, 40, 40, 40, 40, 40, 40, 40, 40, 40],\n",
              "       [45, 45, 45, 45, 45, 45, 45, 45, 45, 45, 45, 45, 45],\n",
              "       [50, 50, 50, 50, 50, 50, 50, 50, 50, 50, 50, 50, 50],\n",
              "       [55, 55, 55, 55, 55, 55, 55, 55, 55, 55, 55, 55, 55],\n",
              "       [60, 60, 60, 60, 60, 60, 60, 60, 60, 60, 60, 60, 60],\n",
              "       [65, 65, 65, 65, 65, 65, 65, 65, 65, 65, 65, 65, 65]])"
            ]
          },
          "metadata": {
            "tags": []
          },
          "execution_count": 62
        }
      ]
    },
    {
      "cell_type": "code",
      "metadata": {
        "trusted": true,
        "id": "R3X3I1-UHj1P",
        "colab_type": "code",
        "colab": {},
        "outputId": "0d92d52b-9059-4828-8d4a-59cfd2f9b8cb"
      },
      "source": [
        "gam = LinearGAM(s(0) + s(1) + s(2) + f(3) + s(4) + s(5) + s(6) + s(7) + s(8) + s(9) + s(10) + s(11) + s(12))\\\n",
        ".gridsearch(X_train.values, y_train.values, lam=lams, return_scores = True)"
      ],
      "execution_count": 0,
      "outputs": [
        {
          "output_type": "stream",
          "text": [
            "100% (14 of 14) |########################| Elapsed Time: 0:00:02 Time:  0:00:02\n"
          ],
          "name": "stderr"
        }
      ]
    },
    {
      "cell_type": "code",
      "metadata": {
        "trusted": true,
        "id": "gvwDO1WRHj1S",
        "colab_type": "code",
        "colab": {},
        "outputId": "8ee68af2-b0f8-4f48-8639-832a3f4661f3"
      },
      "source": [
        "gam"
      ],
      "execution_count": 0,
      "outputs": [
        {
          "output_type": "execute_result",
          "data": {
            "text/plain": [
              "OrderedDict([(LinearGAM(callbacks=[Deviance(), Diffs()], fit_intercept=True, \n",
              "                 max_iter=100, scale=None, \n",
              "                 terms=s(0) + s(1) + s(2) + f(3) + s(4) + s(5) + s(6) + s(7) + s(8) + s(9) + s(10) + s(11) + s(12) + intercept,\n",
              "                 tol=0.0001, verbose=False),\n",
              "              44.60680923317566),\n",
              "             (LinearGAM(callbacks=[Deviance(), Diffs()], fit_intercept=True, \n",
              "                 max_iter=100, scale=None, \n",
              "                 terms=s(0) + s(1) + s(2) + f(3) + s(4) + s(5) + s(6) + s(7) + s(8) + s(9) + s(10) + s(11) + s(12) + intercept,\n",
              "                 tol=0.0001, verbose=False),\n",
              "              10.302936435463629),\n",
              "             (LinearGAM(callbacks=[Deviance(), Diffs()], fit_intercept=True, \n",
              "                 max_iter=100, scale=None, \n",
              "                 terms=s(0) + s(1) + s(2) + f(3) + s(4) + s(5) + s(6) + s(7) + s(8) + s(9) + s(10) + s(11) + s(12) + intercept,\n",
              "                 tol=0.0001, verbose=False),\n",
              "              10.048412993235134),\n",
              "             (LinearGAM(callbacks=[Deviance(), Diffs()], fit_intercept=True, \n",
              "                 max_iter=100, scale=None, \n",
              "                 terms=s(0) + s(1) + s(2) + f(3) + s(4) + s(5) + s(6) + s(7) + s(8) + s(9) + s(10) + s(11) + s(12) + intercept,\n",
              "                 tol=0.0001, verbose=False),\n",
              "              9.923343816719544),\n",
              "             (LinearGAM(callbacks=[Deviance(), Diffs()], fit_intercept=True, \n",
              "                 max_iter=100, scale=None, \n",
              "                 terms=s(0) + s(1) + s(2) + f(3) + s(4) + s(5) + s(6) + s(7) + s(8) + s(9) + s(10) + s(11) + s(12) + intercept,\n",
              "                 tol=0.0001, verbose=False),\n",
              "              9.844389973820984),\n",
              "             (LinearGAM(callbacks=[Deviance(), Diffs()], fit_intercept=True, \n",
              "                 max_iter=100, scale=None, \n",
              "                 terms=s(0) + s(1) + s(2) + f(3) + s(4) + s(5) + s(6) + s(7) + s(8) + s(9) + s(10) + s(11) + s(12) + intercept,\n",
              "                 tol=0.0001, verbose=False),\n",
              "              9.789668802591066),\n",
              "             (LinearGAM(callbacks=[Deviance(), Diffs()], fit_intercept=True, \n",
              "                 max_iter=100, scale=None, \n",
              "                 terms=s(0) + s(1) + s(2) + f(3) + s(4) + s(5) + s(6) + s(7) + s(8) + s(9) + s(10) + s(11) + s(12) + intercept,\n",
              "                 tol=0.0001, verbose=False),\n",
              "              9.749853251365613),\n",
              "             (LinearGAM(callbacks=[Deviance(), Diffs()], fit_intercept=True, \n",
              "                 max_iter=100, scale=None, \n",
              "                 terms=s(0) + s(1) + s(2) + f(3) + s(4) + s(5) + s(6) + s(7) + s(8) + s(9) + s(10) + s(11) + s(12) + intercept,\n",
              "                 tol=0.0001, verbose=False),\n",
              "              9.720034142285606),\n",
              "             (LinearGAM(callbacks=[Deviance(), Diffs()], fit_intercept=True, \n",
              "                 max_iter=100, scale=None, \n",
              "                 terms=s(0) + s(1) + s(2) + f(3) + s(4) + s(5) + s(6) + s(7) + s(8) + s(9) + s(10) + s(11) + s(12) + intercept,\n",
              "                 tol=0.0001, verbose=False),\n",
              "              9.697311350418383),\n",
              "             (LinearGAM(callbacks=[Deviance(), Diffs()], fit_intercept=True, \n",
              "                 max_iter=100, scale=None, \n",
              "                 terms=s(0) + s(1) + s(2) + f(3) + s(4) + s(5) + s(6) + s(7) + s(8) + s(9) + s(10) + s(11) + s(12) + intercept,\n",
              "                 tol=0.0001, verbose=False),\n",
              "              9.67983960342288),\n",
              "             (LinearGAM(callbacks=[Deviance(), Diffs()], fit_intercept=True, \n",
              "                 max_iter=100, scale=None, \n",
              "                 terms=s(0) + s(1) + s(2) + f(3) + s(4) + s(5) + s(6) + s(7) + s(8) + s(9) + s(10) + s(11) + s(12) + intercept,\n",
              "                 tol=0.0001, verbose=False),\n",
              "              9.666380710173835),\n",
              "             (LinearGAM(callbacks=[Deviance(), Diffs()], fit_intercept=True, \n",
              "                 max_iter=100, scale=None, \n",
              "                 terms=s(0) + s(1) + s(2) + f(3) + s(4) + s(5) + s(6) + s(7) + s(8) + s(9) + s(10) + s(11) + s(12) + intercept,\n",
              "                 tol=0.0001, verbose=False),\n",
              "              9.656069208487873),\n",
              "             (LinearGAM(callbacks=[Deviance(), Diffs()], fit_intercept=True, \n",
              "                 max_iter=100, scale=None, \n",
              "                 terms=s(0) + s(1) + s(2) + f(3) + s(4) + s(5) + s(6) + s(7) + s(8) + s(9) + s(10) + s(11) + s(12) + intercept,\n",
              "                 tol=0.0001, verbose=False),\n",
              "              9.648279958114271),\n",
              "             (LinearGAM(callbacks=[Deviance(), Diffs()], fit_intercept=True, \n",
              "                 max_iter=100, scale=None, \n",
              "                 terms=s(0) + s(1) + s(2) + f(3) + s(4) + s(5) + s(6) + s(7) + s(8) + s(9) + s(10) + s(11) + s(12) + intercept,\n",
              "                 tol=0.0001, verbose=False),\n",
              "              9.642548919140776)])"
            ]
          },
          "metadata": {
            "tags": []
          },
          "execution_count": 64
        }
      ]
    },
    {
      "cell_type": "code",
      "metadata": {
        "trusted": true,
        "id": "gnGaP6o9Hj1U",
        "colab_type": "code",
        "colab": {},
        "outputId": "2fbccd16-c77f-42ea-e197-569a7604691c"
      },
      "source": [
        "# gam.summary()"
      ],
      "execution_count": 0,
      "outputs": [
        {
          "output_type": "error",
          "ename": "AttributeError",
          "evalue": "'collections.OrderedDict' object has no attribute 'summary'",
          "traceback": [
            "\u001b[0;31m---------------------------------------------------------------------------\u001b[0m",
            "\u001b[0;31mAttributeError\u001b[0m                            Traceback (most recent call last)",
            "\u001b[0;32m<ipython-input-65-dec6a6acdaaa>\u001b[0m in \u001b[0;36m<module>\u001b[0;34m\u001b[0m\n\u001b[0;32m----> 1\u001b[0;31m \u001b[0mgam\u001b[0m\u001b[0;34m.\u001b[0m\u001b[0msummary\u001b[0m\u001b[0;34m(\u001b[0m\u001b[0;34m)\u001b[0m\u001b[0;34m\u001b[0m\u001b[0;34m\u001b[0m\u001b[0m\n\u001b[0m",
            "\u001b[0;31mAttributeError\u001b[0m: 'collections.OrderedDict' object has no attribute 'summary'"
          ]
        }
      ]
    },
    {
      "cell_type": "code",
      "metadata": {
        "trusted": true,
        "id": "gIU6Qi97Hj1W",
        "colab_type": "code",
        "colab": {},
        "outputId": "456da181-c49c-45f8-83e2-866564727ce2"
      },
      "source": [
        "gam = LinearGAM(s(0) + s(1) + s(2) + f(3) + s(4) + s(5) + s(6) + s(7) + s(8) + s(9) + s(10) + s(11) + s(12), lam = 65)\n",
        "gam.fit(X_train,y_train)"
      ],
      "execution_count": 0,
      "outputs": [
        {
          "output_type": "execute_result",
          "data": {
            "text/plain": [
              "LinearGAM(callbacks=[Deviance(), Diffs()], fit_intercept=True, \n",
              "   max_iter=100, scale=None, \n",
              "   terms=s(0) + s(1) + s(2) + f(3) + s(4) + s(5) + s(6) + s(7) + s(8) + s(9) + s(10) + s(11) + s(12) + intercept,\n",
              "   tol=0.0001, verbose=False)"
            ]
          },
          "metadata": {
            "tags": []
          },
          "execution_count": 66
        }
      ]
    },
    {
      "cell_type": "code",
      "metadata": {
        "trusted": true,
        "id": "PkJ5H8i-Hj1X",
        "colab_type": "code",
        "colab": {}
      },
      "source": [
        "gam.summary()"
      ],
      "execution_count": 0,
      "outputs": []
    },
    {
      "cell_type": "code",
      "metadata": {
        "trusted": true,
        "id": "lotEYtc0Hj1Z",
        "colab_type": "code",
        "colab": {}
      },
      "source": [
        "((gam.predict(X_test) - y_test) ** 2).mean()"
      ],
      "execution_count": 0,
      "outputs": []
    },
    {
      "cell_type": "code",
      "metadata": {
        "trusted": true,
        "id": "__9irXkQHj1d",
        "colab_type": "code",
        "colab": {}
      },
      "source": [
        "titles = X_train.columns\n",
        "plt.figure()\n",
        "fig, axs = plt.subplots(1,13,figsize=(40, 8))\n",
        "for i, ax in enumerate(axs):\n",
        "    XX = gam.generate_X_grid(term=i)\n",
        "    ax.plot(XX[:, i], gam.partial_dependence(term=i, X=XX))\n",
        "    ax.plot(XX[:, i], gam.partial_dependence(term=i, X=XX,   width=.95)[1], c='r', ls='--')\n",
        "    if i == 0:\n",
        "        ax.set_ylim(-30,30)\n",
        "    ax.set_title(titles[i])"
      ],
      "execution_count": 0,
      "outputs": []
    }
  ]
}